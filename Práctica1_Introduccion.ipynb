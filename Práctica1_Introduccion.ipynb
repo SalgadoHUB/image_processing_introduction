{
  "nbformat": 4,
  "nbformat_minor": 0,
  "metadata": {
    "colab": {
      "provenance": [],
      "authorship_tag": "ABX9TyNUstKZjdha4uOQzA/AQOPz",
      "include_colab_link": true
    },
    "kernelspec": {
      "name": "python3",
      "display_name": "Python 3"
    },
    "language_info": {
      "name": "python"
    }
  },
  "cells": [
    {
      "cell_type": "markdown",
      "metadata": {
        "id": "view-in-github",
        "colab_type": "text"
      },
      "source": [
        "<a href=\"https://colab.research.google.com/github/SalgadoHUB/image_processing_introduction/blob/main/Pr%C3%A1ctica1_Introduccion.ipynb\" target=\"_parent\"><img src=\"https://colab.research.google.com/assets/colab-badge.svg\" alt=\"Open In Colab\"/></a>"
      ]
    },
    {
      "cell_type": "markdown",
      "source": [
        "# Práctica 1: Introducción a Colab, Numpy, OpenCV\n",
        "\n",
        "\n",
        "Python es un lenguaje de programación de propósito general ampliamente utilizado en ciencia y tecnología, y por lo general se utiliza junto con algunas de sus librerías (numpy, pandas, matplotlib). en esta práctica haremos una breve introducción a las herramientas que vamos a usar en la asignatura.\n",
        "En concreto, aprenderemos:\n",
        "\n",
        "* Python básico, entorno Colab.\n",
        "* Introducción a Numpy\n",
        "* Visualización de variables (Matplotlib, OpenCv\n",
        "\n",
        "Este guión de prácticas esta escrito como un cuaderno de Colab. Empezaremos haciendo una introducción a este entorno de trabajo.\n",
        "\n",
        "## Colab y Python básico\n",
        "Podemos abrir Colab desde nuestro Drive, o también en este enlace:\n",
        "\n",
        "http://colab.research.google.com/github/googlecolab/\n",
        "\n",
        "Si disponemos de una cuenta de Github, podemos sustituir \"googlecolab\" por nuestro usuario, y ejecutaremos nuestros cuadernos almacenados en Git.\n",
        "\n",
        "En colab tenemos celdas de texto y celdas de código. A la izquierda de las celdas de código tenemos un botón con el símbolo \">\". Si lo apretamos se ejecutará el código de la celda, y el resultado nos aparecerá debajo. Se puede cambiar el código y volver a ejecutar el código modificado. Alternativamente, también se puede apretar \"Shift\" + \"Enter\" simultaneamente para ejecutar la celda activa.\n",
        "\n",
        "Este cuaderno pretende ser una guía de lo que vamos a ver en clase. Puedes ir leyendo el código tratando de entender qué resultado vamos a entender, o puedes ir escribiendo en un tu cuaderno las mismas órdenes. Se recomienda no \"copiar y pegar\" directamente, porque el objetivo es aprender.\n",
        "As you work through this tutorial, look at the code in each cell, and try to predict its output before you run it! Then, run the cell and check your understanding. You can also try to modify the code and observe the effect of your changes.\n",
        "\n",
        "### Tipos de variables\n",
        "No es necesario definir las variables previamente."
      ],
      "metadata": {
        "id": "iStfd7GW2rl7"
      }
    },
    {
      "cell_type": "code",
      "execution_count": 1,
      "metadata": {
        "colab": {
          "base_uri": "https://localhost:8080/"
        },
        "id": "6TEXhisa2mwJ",
        "outputId": "2781d65d-6ec8-4291-af13-814f4d0db6bb"
      },
      "outputs": [
        {
          "output_type": "stream",
          "name": "stdout",
          "text": [
            "3 <class 'int'>\n"
          ]
        }
      ],
      "source": [
        "x = 3\n",
        "print(x, type(x))"
      ]
    },
    {
      "cell_type": "code",
      "source": [
        "y = 2.5\n",
        "print(y, type(y))"
      ],
      "metadata": {
        "colab": {
          "base_uri": "https://localhost:8080/"
        },
        "id": "RDfAuBRK6Etd",
        "outputId": "5befc9d3-3f5f-42b6-be26-4313e2ec2a6e"
      },
      "execution_count": 3,
      "outputs": [
        {
          "output_type": "stream",
          "name": "stdout",
          "text": [
            "<class 'float'>\n"
          ]
        }
      ]
    },
    {
      "cell_type": "code",
      "source": [
        "print(x + 1)   # Suma\n",
        "print(x - 1)   # Resta\n",
        "print(x * 2)   # Multiplicación\n",
        "print(x ** 2)  # Potencia"
      ],
      "metadata": {
        "colab": {
          "base_uri": "https://localhost:8080/"
        },
        "id": "63oWFLl95vZG",
        "outputId": "5f2b6237-5cb9-447c-edf1-9c3bd8baf233"
      },
      "execution_count": 2,
      "outputs": [
        {
          "output_type": "stream",
          "name": "stdout",
          "text": [
            "4\n",
            "2\n",
            "6\n",
            "9\n"
          ]
        }
      ]
    },
    {
      "cell_type": "code",
      "source": [
        "x += 1\n",
        "print(x)\n",
        "x *= 2\n",
        "print(x)"
      ],
      "metadata": {
        "colab": {
          "base_uri": "https://localhost:8080/"
        },
        "id": "Mvk-3-7q6Nx1",
        "outputId": "ee90b36e-9e6d-45b2-9d97-7c44ca806126"
      },
      "execution_count": 4,
      "outputs": [
        {
          "output_type": "stream",
          "name": "stdout",
          "text": [
            "4\n",
            "8\n"
          ]
        }
      ]
    },
    {
      "cell_type": "markdown",
      "source": [
        "### Cadenas de texto"
      ],
      "metadata": {
        "id": "ev0FqUr86b45"
      }
    },
    {
      "cell_type": "code",
      "source": [
        "hello = 'hello'   # String literals can use single quotes\n",
        "world = \"world\"   # or double quotes; it does not matter\n",
        "print(hello, len(hello))\n",
        "hw = hello + ' ' + world  # String concatenation\n",
        "print(hw)"
      ],
      "metadata": {
        "colab": {
          "base_uri": "https://localhost:8080/"
        },
        "id": "TffzRzst6dlk",
        "outputId": "d1e0fbe6-1fb5-4d05-8d34-72d8ad297e2c"
      },
      "execution_count": 5,
      "outputs": [
        {
          "output_type": "stream",
          "name": "stdout",
          "text": [
            "hello 5\n",
            "hello world\n"
          ]
        }
      ]
    },
    {
      "cell_type": "markdown",
      "source": [
        "### Listas\n",
        "Las Listas en Python son el equivalente a arrays (con alguna diferencia)"
      ],
      "metadata": {
        "id": "R72y8Jk46vZF"
      }
    },
    {
      "cell_type": "code",
      "source": [
        "xs = [3, 1, 2]   # Create a list\n",
        "print(xs, xs[2]) # Las posiciones se empiezan a contar en \"0\"\n",
        "print(xs[-1])     # Negative indices count from the end of the list; prints \"2\"\n",
        "\n",
        "xs[2] = 'foo'    # Lists can contain elements of different types\n",
        "print(xs)\n",
        "\n",
        "xs.append('bar') # Add a new element to the end of the list\n",
        "print(xs)\n",
        "\n",
        "x = xs.pop()     # Remove and return the last element of the list\n",
        "print(x, xs)\n"
      ],
      "metadata": {
        "colab": {
          "base_uri": "https://localhost:8080/"
        },
        "id": "CCSPemhV6zkc",
        "outputId": "4ae770cf-823d-49c7-9857-eaa40dfb1844"
      },
      "execution_count": 6,
      "outputs": [
        {
          "output_type": "stream",
          "name": "stdout",
          "text": [
            "[3, 1, 2] 2\n",
            "2\n",
            "[3, 1, 'foo']\n",
            "[3, 1, 'foo', 'bar']\n",
            "bar [3, 1, 'foo']\n"
          ]
        }
      ]
    },
    {
      "cell_type": "code",
      "source": [
        "nums = list(range(5))    # range is a built-in function that creates a list of integers\n",
        "print(nums)         # Prints \"[0, 1, 2, 3, 4]\"\n",
        "print(nums[2:4])    # Get a slice from index 2 to 4 (exclusive); prints \"[2, 3]\"\n",
        "print(nums[2:])     # Get a slice from index 2 to the end; prints \"[2, 3, 4]\"\n",
        "print(nums[:2])     # Get a slice from the start to index 2 (exclusive); prints \"[0, 1]\"\n",
        "print(nums[:])      # Get a slice of the whole list; prints [\"0, 1, 2, 3, 4]\"\n",
        "print(nums[:-1])    # Slice indices can be negative; prints [\"0, 1, 2, 3]\"\n",
        "nums[2:4] = [8, 9] # Assign a new sublist to a slice\n",
        "print(nums)         # Prints \"[0, 1, 8, 9, 4]\""
      ],
      "metadata": {
        "id": "aGLzswXz7YSE"
      },
      "execution_count": null,
      "outputs": []
    },
    {
      "cell_type": "markdown",
      "source": [
        "### Diccionarios\n",
        "Los diccionarios almacenan pares (clave, valor). Son útiles para ordenar variables."
      ],
      "metadata": {
        "id": "7kUBtF7g7aKU"
      }
    },
    {
      "cell_type": "code",
      "source": [
        "d = {'cat': 'cute', 'dog': 'furry'}  # Create a new dictionary with some data\n",
        "print(d['cat'])       # Get an entry from a dictionary; prints \"cute\"\n",
        "print('cat' in d)     # Check if a dictionary has a given key; prints \"True\""
      ],
      "metadata": {
        "id": "r7hYhNE67j9j"
      },
      "execution_count": null,
      "outputs": []
    },
    {
      "cell_type": "markdown",
      "source": [
        "### Bucles\n",
        "En los Bucles de Python, la indexación (tabulación) es muy importante."
      ],
      "metadata": {
        "id": "W4k16Lgo7vqy"
      }
    },
    {
      "cell_type": "code",
      "source": [
        "x = -15\n",
        "\n",
        "if x == 0:\n",
        "    print(x, \"is zero\")\n",
        "elif x > 0:\n",
        "    print(x, \"is positive\")\n",
        "elif x < 0:\n",
        "    print(x, \"is negative\")\n",
        "else:\n",
        "    print(x, \"is unlike anything I've ever seen...\")"
      ],
      "metadata": {
        "colab": {
          "base_uri": "https://localhost:8080/"
        },
        "id": "tWvam-F97vB6",
        "outputId": "37c3cd72-71b9-420f-fe40-6db74543605d"
      },
      "execution_count": 7,
      "outputs": [
        {
          "output_type": "stream",
          "name": "stdout",
          "text": [
            "-15 is negative\n"
          ]
        }
      ]
    },
    {
      "cell_type": "code",
      "source": [
        "for N in [2, 3, 5, 7]:\n",
        "    print(N, end=' ') # print all on same line"
      ],
      "metadata": {
        "colab": {
          "base_uri": "https://localhost:8080/"
        },
        "id": "oGl_nw1k70Fy",
        "outputId": "e17d3fbf-4af2-4aaa-c5df-8c53d9142cef"
      },
      "execution_count": 8,
      "outputs": [
        {
          "output_type": "stream",
          "name": "stdout",
          "text": [
            "2 3 5 7 "
          ]
        }
      ]
    },
    {
      "cell_type": "markdown",
      "source": [
        "Es usual utilizar \"range\" para definir el rango del bucle for. Nótese que se comienza a contar en 0, y el límite superior de \"range\" queda fuera del bucle."
      ],
      "metadata": {
        "id": "aI6Ls5hg8Y-5"
      }
    },
    {
      "cell_type": "code",
      "source": [
        "for i in range(10):\n",
        "    print(i)"
      ],
      "metadata": {
        "colab": {
          "base_uri": "https://localhost:8080/"
        },
        "id": "nlvs10RP8K0p",
        "outputId": "3e703f24-4151-456f-b7a3-02f303d27697"
      },
      "execution_count": 10,
      "outputs": [
        {
          "output_type": "stream",
          "name": "stdout",
          "text": [
            "0\n",
            "1\n",
            "2\n",
            "3\n",
            "4\n",
            "5\n",
            "6\n",
            "7\n",
            "8\n",
            "9\n"
          ]
        }
      ]
    },
    {
      "cell_type": "markdown",
      "source": [
        "Se pueden hacer bucles para recorrer listas, independientemente del tipo de variables que contengan."
      ],
      "metadata": {
        "id": "c284D_IU8laq"
      }
    },
    {
      "cell_type": "code",
      "source": [
        "animals = ['gato', 'perro', 'mono']\n",
        "for animal in animals:\n",
        "    print(animal)"
      ],
      "metadata": {
        "colab": {
          "base_uri": "https://localhost:8080/"
        },
        "id": "eGnwzGAk8qAc",
        "outputId": "1b77805d-62a4-4cee-e40e-8694081aa5ae"
      },
      "execution_count": 12,
      "outputs": [
        {
          "output_type": "stream",
          "name": "stdout",
          "text": [
            "gato\n",
            "perro\n",
            "mono\n"
          ]
        }
      ]
    },
    {
      "cell_type": "markdown",
      "source": [
        "También existen bucles \"while\":"
      ],
      "metadata": {
        "id": "dB2ERX4p82Lg"
      }
    },
    {
      "cell_type": "code",
      "source": [
        "i = 0\n",
        "while i < 10:\n",
        "    print(i, end=' ')\n",
        "    i += 1"
      ],
      "metadata": {
        "colab": {
          "base_uri": "https://localhost:8080/"
        },
        "id": "SwG96z0A85Jg",
        "outputId": "284f4b02-f7d6-41cb-806c-9e0d3c613d2d"
      },
      "execution_count": 13,
      "outputs": [
        {
          "output_type": "stream",
          "name": "stdout",
          "text": [
            "0 1 2 3 4 5 6 7 8 9 "
          ]
        }
      ]
    },
    {
      "cell_type": "markdown",
      "source": [
        "También es usual ir rellenando listas dentro de un bucle. En este caso, tenemos que generar antes la lista vacía."
      ],
      "metadata": {
        "id": "rqxC0PQL9JAI"
      }
    },
    {
      "cell_type": "code",
      "source": [
        "nums = [0, 1, 2, 3, 4]\n",
        "squares = []\n",
        "for x in nums:\n",
        "    squares.append(x ** 2)\n",
        "print(squares)"
      ],
      "metadata": {
        "colab": {
          "base_uri": "https://localhost:8080/"
        },
        "id": "k_cGPSrT9Qmh",
        "outputId": "9bac1166-d733-4462-f6cf-2fd00ea744dd"
      },
      "execution_count": 14,
      "outputs": [
        {
          "output_type": "stream",
          "name": "stdout",
          "text": [
            "[0, 1, 4, 9, 16]\n"
          ]
        }
      ]
    },
    {
      "cell_type": "markdown",
      "source": [
        "Otra forma de escribir lo mismo, en formato \"pythonizado\":"
      ],
      "metadata": {
        "id": "Vni3Gp0t9StY"
      }
    },
    {
      "cell_type": "code",
      "source": [
        "nums = [0, 1, 2, 3, 4]\n",
        "squares = [x ** 2 for x in nums]\n",
        "print(squares)"
      ],
      "metadata": {
        "colab": {
          "base_uri": "https://localhost:8080/"
        },
        "id": "uc-vcWA49XOA",
        "outputId": "948fbb3b-bd20-40a3-92c4-fff59ebaf0d4"
      },
      "execution_count": 15,
      "outputs": [
        {
          "output_type": "stream",
          "name": "stdout",
          "text": [
            "[0, 1, 4, 9, 16]\n"
          ]
        }
      ]
    },
    {
      "cell_type": "markdown",
      "source": [
        "### Funciones\n",
        "Si hay una parte de código que se repite asiduamente, podemos definir funciones (con argumentos) y llamarlas cuando nos convenga.\n",
        "La forma de hacerlo es la siguiente:"
      ],
      "metadata": {
        "id": "Go49berD-qcW"
      }
    },
    {
      "cell_type": "code",
      "source": [
        "def sign(x):\n",
        "    if x > 0:\n",
        "        return 'positivo'\n",
        "    elif x < 0:\n",
        "        return 'negativo'\n",
        "    else:\n",
        "        return 'cero'\n",
        "\n",
        "for x in [-1, 0, 1]:\n",
        "    print(sign(x))"
      ],
      "metadata": {
        "colab": {
          "base_uri": "https://localhost:8080/"
        },
        "id": "KMc7SUFF-2jF",
        "outputId": "7c7d0d27-2d55-4d39-e8a6-349ae4d6da12"
      },
      "execution_count": 16,
      "outputs": [
        {
          "output_type": "stream",
          "name": "stdout",
          "text": [
            "negative\n",
            "zero\n",
            "positive\n"
          ]
        }
      ]
    },
    {
      "cell_type": "markdown",
      "source": [
        "## Introducción a Numpy\n",
        "Numpy es una librearía para el cálculo numérico, que imita el funcionamiento de Matlab.\n",
        "Para usarla primero tenemos que importarla."
      ],
      "metadata": {
        "id": "_RHcCYta2qJF"
      }
    },
    {
      "cell_type": "code",
      "source": [
        "import numpy as np"
      ],
      "metadata": {
        "id": "O-tMQI2Q_Wad"
      },
      "execution_count": 18,
      "outputs": []
    },
    {
      "cell_type": "code",
      "source": [
        "a = np.array([1, 2, 3])  # Create a rank 1 array"
      ],
      "metadata": {
        "id": "QOQyUnIe_ezt"
      },
      "execution_count": 19,
      "outputs": []
    },
    {
      "cell_type": "code",
      "source": [
        "print(type(a), a.shape, a[0], a[1], a[2])\n",
        "a[0] = 5                 # Change an element of the array\n",
        "print(a)"
      ],
      "metadata": {
        "colab": {
          "base_uri": "https://localhost:8080/"
        },
        "id": "wH9Gt3eV_kIF",
        "outputId": "3637fd5c-623c-40f4-c1f0-ded1333956c8"
      },
      "execution_count": 20,
      "outputs": [
        {
          "output_type": "stream",
          "name": "stdout",
          "text": [
            "<class 'numpy.ndarray'> (3,) 1 2 3\n",
            "[5 2 3]\n"
          ]
        }
      ]
    },
    {
      "cell_type": "code",
      "source": [
        "b = np.array([[1,2],[3,4]])   # Create a rank 2 array\n",
        "print(b)\n",
        "print(b.shape)"
      ],
      "metadata": {
        "colab": {
          "base_uri": "https://localhost:8080/"
        },
        "id": "NK6JSyz8_k6U",
        "outputId": "834c25c9-3af4-4bbe-b708-95a8557c880e"
      },
      "execution_count": 21,
      "outputs": [
        {
          "output_type": "stream",
          "name": "stdout",
          "text": [
            "[[1 2]\n",
            " [3 4]]\n",
            "(2, 2)\n"
          ]
        }
      ]
    },
    {
      "cell_type": "markdown",
      "source": [
        "Generación de matrices especiales"
      ],
      "metadata": {
        "id": "DETMlriW--lH"
      }
    },
    {
      "cell_type": "code",
      "source": [
        "a = np.zeros((2,2))  # Create an array of all zeros\n",
        "print(a)\n",
        "c = np.full((2,2), 7) # Create a constant array\n",
        "print(c)\n",
        "d = np.eye(2)        # Create a 2x2 identity matrix\n",
        "print(d)"
      ],
      "metadata": {
        "colab": {
          "base_uri": "https://localhost:8080/"
        },
        "id": "fttryGo0__Di",
        "outputId": "ccd97f7d-9604-4175-84d0-5d3cf5f104fe"
      },
      "execution_count": 22,
      "outputs": [
        {
          "output_type": "stream",
          "name": "stdout",
          "text": [
            "[[0. 0.]\n",
            " [0. 0.]]\n",
            "[[7 7]\n",
            " [7 7]]\n",
            "[[1. 0.]\n",
            " [0. 1.]]\n"
          ]
        }
      ]
    },
    {
      "cell_type": "code",
      "source": [
        "e = np.random.random((2,2)) # Create an array filled with random values\n",
        "print(e)"
      ],
      "metadata": {
        "colab": {
          "base_uri": "https://localhost:8080/"
        },
        "id": "s5fpedEEAHVr",
        "outputId": "f80529ba-91cd-4865-e143-550f29fed989"
      },
      "execution_count": 26,
      "outputs": [
        {
          "output_type": "stream",
          "name": "stdout",
          "text": [
            "[[0.00472163 0.82925284]\n",
            " [0.05694106 0.0653712 ]]\n"
          ]
        }
      ]
    },
    {
      "cell_type": "markdown",
      "source": [
        "\n",
        "\n",
        "Numpy tiene dos funciones muy útiles para la generación de secuencias de números: arange linspace.\n",
        "\n",
        "La función arange  tiene tres argumentos: valor inicial, valor final (intervalo semiabierto) y paso entre valores. Si no se especifica el paso, el salto por defecto es 1.\n",
        "\n",
        "La función linspace es similar, pero en vez de especificar el paso se indica el número de elementos que debe tener el array.\n"
      ],
      "metadata": {
        "id": "dm34pKrj_-ij"
      }
    },
    {
      "cell_type": "code",
      "source": [
        "f = np.arange(10,50,5)   # array de 10 a 50 en intervalos de 5. Acabará en 45, y no en 50\n",
        "print(f)"
      ],
      "metadata": {
        "colab": {
          "base_uri": "https://localhost:8080/"
        },
        "id": "6PV7EB_RBF3a",
        "outputId": "80edd6b5-2882-4293-d99d-139ac20f4402"
      },
      "execution_count": 27,
      "outputs": [
        {
          "output_type": "stream",
          "name": "stdout",
          "text": [
            "[10 15 20 25 30 35 40 45]\n"
          ]
        }
      ]
    },
    {
      "cell_type": "code",
      "source": [
        "g = np.linspace(0., 1., num=5)\n",
        "print(g)"
      ],
      "metadata": {
        "colab": {
          "base_uri": "https://localhost:8080/"
        },
        "id": "b5xVkbLSBRHx",
        "outputId": "0daf8bfb-4765-42b3-b6ff-23bce57be7ac"
      },
      "execution_count": 28,
      "outputs": [
        {
          "output_type": "stream",
          "name": "stdout",
          "text": [
            "[0.   0.25 0.5  0.75 1.  ]\n"
          ]
        }
      ]
    },
    {
      "cell_type": "code",
      "source": [
        "# Create the following rank 2 array with shape (3, 4)\n",
        "# [[ 1  2  3  4]\n",
        "#  [ 5  6  7  8]\n",
        "#  [ 9 10 11 12]]\n",
        "a = np.array([[1,2,3,4], [5,6,7,8], [9,10,11,12]])\n",
        "\n",
        "# Use slicing to pull out the subarray consisting of the first 2 rows\n",
        "# and columns 1 and 2; b is the following array of shape (2, 2):\n",
        "# [[2 3]\n",
        "#  [6 7]]\n",
        "b = a[:2, 1:3]\n",
        "print(b)"
      ],
      "metadata": {
        "colab": {
          "base_uri": "https://localhost:8080/"
        },
        "id": "dhXFswgdBauY",
        "outputId": "7c0a37b6-b700-45a6-a2a7-898788354a03"
      },
      "execution_count": 29,
      "outputs": [
        {
          "output_type": "stream",
          "name": "stdout",
          "text": [
            "[[2 3]\n",
            " [6 7]]\n"
          ]
        }
      ]
    },
    {
      "cell_type": "code",
      "source": [
        "# Create the following rank 2 array with shape (3, 4)\n",
        "a = np.array([[1,2,3,4], [5,6,7,8], [9,10,11,12]])\n",
        "print(a)\n",
        "row_r1 = a[1, :]    # Rank 1 view of the second row of a\n",
        "row_r2 = a[1:2, :]  # Rank 2 view of the second row of a\n",
        "row_r3 = a[[1], :]  # Rank 2 view of the second row of a\n",
        "print(row_r1, row_r1.shape)\n",
        "print(row_r2, row_r2.shape)\n",
        "print(row_r3, row_r3.shape)"
      ],
      "metadata": {
        "colab": {
          "base_uri": "https://localhost:8080/"
        },
        "id": "D2oGbKZPBq9I",
        "outputId": "46077efd-ec49-4dfe-de20-b7c9a0dc100d"
      },
      "execution_count": 30,
      "outputs": [
        {
          "output_type": "stream",
          "name": "stdout",
          "text": [
            "[[ 1  2  3  4]\n",
            " [ 5  6  7  8]\n",
            " [ 9 10 11 12]]\n",
            "[5 6 7 8] (4,)\n",
            "[[5 6 7 8]] (1, 4)\n",
            "[[5 6 7 8]] (1, 4)\n"
          ]
        }
      ]
    },
    {
      "cell_type": "code",
      "source": [
        "# We can make the same distinction when accessing columns of an array:\n",
        "col_r1 = a[:, 1]\n",
        "col_r2 = a[:, 1:2]\n",
        "print(col_r1, col_r1.shape)\n",
        "print()\n",
        "print(col_r2, col_r2.shape)"
      ],
      "metadata": {
        "id": "bGXKSiAjBwJg"
      },
      "execution_count": null,
      "outputs": []
    },
    {
      "cell_type": "markdown",
      "source": [
        "Valores lógicos en arrays"
      ],
      "metadata": {
        "id": "xeURVHF2_ULk"
      }
    },
    {
      "cell_type": "code",
      "source": [
        "a = np.array([[1,2], [3, 4], [5, 6]])\n",
        "\n",
        "bool_idx = (a > 2)  # Find the elements of a that are bigger than 2;\n",
        "                    # this returns a numpy array of Booleans of the same\n",
        "                    # shape as a, where each slot of bool_idx tells\n",
        "                    # whether that element of a is > 2.\n",
        "\n",
        "print(bool_idx)"
      ],
      "metadata": {
        "colab": {
          "base_uri": "https://localhost:8080/"
        },
        "id": "YIGrNpIL_U68",
        "outputId": "7c7fa16b-8d62-4b0c-eff8-599fd76f8b2a"
      },
      "execution_count": 31,
      "outputs": [
        {
          "output_type": "stream",
          "name": "stdout",
          "text": [
            "[[False False]\n",
            " [ True  True]\n",
            " [ True  True]]\n"
          ]
        }
      ]
    },
    {
      "cell_type": "code",
      "source": [
        "# We use boolean array indexing to construct a rank 1 array\n",
        "# consisting of the elements of a corresponding to the True values\n",
        "# of bool_idx\n",
        "print(a[bool_idx])\n",
        "\n",
        "# We can do all of the above in a single concise statement:\n",
        "print(a[a > 2])"
      ],
      "metadata": {
        "colab": {
          "base_uri": "https://localhost:8080/"
        },
        "id": "_wjjBpFoCBcI",
        "outputId": "7db53d46-3124-4917-f89b-72caa4c98bd6"
      },
      "execution_count": 32,
      "outputs": [
        {
          "output_type": "stream",
          "name": "stdout",
          "text": [
            "[3 4 5 6]\n",
            "[3 4 5 6]\n"
          ]
        }
      ]
    },
    {
      "cell_type": "code",
      "source": [
        "a = np.array([1, 8, 9, -3, 2, 4, 7, 9])\n",
        "\n",
        "# Get the index of the maximum element in a\n",
        "print(np.argmax(a))\n",
        "\n",
        "# Get the index of the minimum element in a\n",
        "# (this array has two elements with the maximum value -\n",
        "# only one index is returned)\n",
        "print(np.argmin(a))\n",
        "\n",
        "# Get sorted list of indices\n",
        "print(np.argsort(a))\n",
        "\n",
        "# Get sorted list of indices in descending order\n",
        "# [::-1] is a special slicing index that returns the reversed list\n",
        "print(np.argsort(a)[::-1])\n",
        "\n",
        "# Get indices of elements that meet some condition\n",
        "# this returns a tuple, the list of indices is the first entry\n",
        "# so we use [0] to get it\n",
        "print(np.where(a > 5)[0])\n",
        "\n",
        "# Get indices of elements that meet some condition\n",
        "# this example shows how to get the index of *all* the max values\n",
        "print(np.where(a >= a[np.argmax(a)])[0])"
      ],
      "metadata": {
        "id": "7GZp8mhACK9g"
      },
      "execution_count": null,
      "outputs": []
    },
    {
      "cell_type": "markdown",
      "source": [
        "Vectorización\n",
        "Es importante evitar los bucles for cuando se hacen cálculos."
      ],
      "metadata": {
        "id": "X2-WegQTCSmz"
      }
    },
    {
      "cell_type": "code",
      "source": [
        "a = np.random.random(100000000)"
      ],
      "metadata": {
        "id": "aN_aDOYLCYpf"
      },
      "execution_count": 33,
      "outputs": []
    },
    {
      "cell_type": "code",
      "source": [
        "%%time\n",
        "x = 0\n",
        "for element in a:\n",
        "  x = x + element"
      ],
      "metadata": {
        "colab": {
          "base_uri": "https://localhost:8080/"
        },
        "id": "3b0iqxK7Cb3f",
        "outputId": "b66bd8f9-b498-429b-c304-fb1933742f44"
      },
      "execution_count": 34,
      "outputs": [
        {
          "output_type": "stream",
          "name": "stdout",
          "text": [
            "CPU times: user 20.3 s, sys: 0 ns, total: 20.3 s\n",
            "Wall time: 21.1 s\n"
          ]
        }
      ]
    },
    {
      "cell_type": "code",
      "source": [
        "%%time\n",
        "x = np.sum(a)"
      ],
      "metadata": {
        "colab": {
          "base_uri": "https://localhost:8080/"
        },
        "id": "DFNTNFnECbrv",
        "outputId": "6ec1612b-673c-4e4b-f521-fdf11c2979e4"
      },
      "execution_count": 35,
      "outputs": [
        {
          "output_type": "stream",
          "name": "stdout",
          "text": [
            "CPU times: user 145 ms, sys: 0 ns, total: 145 ms\n",
            "Wall time: 154 ms\n"
          ]
        }
      ]
    },
    {
      "cell_type": "code",
      "source": [
        "x = np.array([[1,2],[3,4]], dtype=np.float64)\n",
        "y = np.array([[5,6],[7,8]], dtype=np.float64)\n",
        "\n",
        "# Elementwise sum; both produce the array\n",
        "print(x + y)\n",
        "print(np.add(x, y))"
      ],
      "metadata": {
        "colab": {
          "base_uri": "https://localhost:8080/"
        },
        "id": "WNUVW8u-Czhd",
        "outputId": "e371d16d-710e-409f-c1fb-f5cf639a5f5b"
      },
      "execution_count": 36,
      "outputs": [
        {
          "output_type": "stream",
          "name": "stdout",
          "text": [
            "[[ 6.  8.]\n",
            " [10. 12.]]\n",
            "[[ 6.  8.]\n",
            " [10. 12.]]\n"
          ]
        }
      ]
    },
    {
      "cell_type": "code",
      "source": [
        "# Elementwise difference; both produce the array\n",
        "print(x - y)\n",
        "print(np.subtract(x, y))"
      ],
      "metadata": {
        "colab": {
          "base_uri": "https://localhost:8080/"
        },
        "id": "_odcReyCC2Z0",
        "outputId": "f87923b5-d1d0-4fe0-d4d9-55e4f2ea8cef"
      },
      "execution_count": 37,
      "outputs": [
        {
          "output_type": "stream",
          "name": "stdout",
          "text": [
            "[[-4. -4.]\n",
            " [-4. -4.]]\n",
            "[[-4. -4.]\n",
            " [-4. -4.]]\n"
          ]
        }
      ]
    },
    {
      "cell_type": "code",
      "source": [
        "# Elementwise product; both produce the array\n",
        "print(x * y)\n",
        "print(np.multiply(x, y))"
      ],
      "metadata": {
        "colab": {
          "base_uri": "https://localhost:8080/"
        },
        "id": "2gKDTfe5C4D0",
        "outputId": "986d06c9-50ff-4270-aa56-bdd6b7802366"
      },
      "execution_count": 38,
      "outputs": [
        {
          "output_type": "stream",
          "name": "stdout",
          "text": [
            "[[ 5. 12.]\n",
            " [21. 32.]]\n",
            "[[ 5. 12.]\n",
            " [21. 32.]]\n"
          ]
        }
      ]
    },
    {
      "cell_type": "code",
      "source": [
        "# Elementwise division; both produce the array\n",
        "# [[ 0.2         0.33333333]\n",
        "#  [ 0.42857143  0.5       ]]\n",
        "print(x / y)\n",
        "print(np.divide(x, y))"
      ],
      "metadata": {
        "colab": {
          "base_uri": "https://localhost:8080/"
        },
        "id": "ol3PlzuRC7eU",
        "outputId": "5c33e237-33a1-4723-a1ee-6d2f064c5127"
      },
      "execution_count": 39,
      "outputs": [
        {
          "output_type": "stream",
          "name": "stdout",
          "text": [
            "[[0.2        0.33333333]\n",
            " [0.42857143 0.5       ]]\n",
            "[[0.2        0.33333333]\n",
            " [0.42857143 0.5       ]]\n"
          ]
        }
      ]
    },
    {
      "cell_type": "code",
      "source": [
        "# Elementwise square root; produces the array\n",
        "# [[ 1.          1.41421356]\n",
        "#  [ 1.73205081  2.        ]]\n",
        "print(np.sqrt(x))"
      ],
      "metadata": {
        "colab": {
          "base_uri": "https://localhost:8080/"
        },
        "id": "6XseiK4NC-Ee",
        "outputId": "85c5cbe0-70e0-409d-9646-b56315801044"
      },
      "execution_count": 40,
      "outputs": [
        {
          "output_type": "stream",
          "name": "stdout",
          "text": [
            "[[1.         1.41421356]\n",
            " [1.73205081 2.        ]]\n"
          ]
        }
      ]
    },
    {
      "cell_type": "markdown",
      "source": [
        "Para hacer producto vectorial, utilizamos \"dot()\""
      ],
      "metadata": {
        "id": "S2pbqPFmDSYh"
      }
    },
    {
      "cell_type": "code",
      "source": [
        "x = np.array([[1,2],[3,4]])\n",
        "y = np.array([[5,6],[7,8]])\n",
        "\n",
        "v = np.array([9,10])\n",
        "w = np.array([11, 12])\n",
        "\n",
        "# Inner product of vectors; both produce 219\n",
        "print(v.dot(w))\n",
        "print(np.dot(v, w))"
      ],
      "metadata": {
        "colab": {
          "base_uri": "https://localhost:8080/"
        },
        "id": "mjX2ZJo5DMh2",
        "outputId": "a4852f1f-79a7-4882-9585-1e9b1efc3fba"
      },
      "execution_count": 41,
      "outputs": [
        {
          "output_type": "stream",
          "name": "stdout",
          "text": [
            "219\n",
            "219\n"
          ]
        }
      ]
    },
    {
      "cell_type": "markdown",
      "source": [
        "Sigue el tutorial en:\n",
        "https://colab.research.google.com/github/ffund/ml-notebooks/blob/master/notebooks/1-python-numpy-tutorial.ipynb#scrollTo=6e8eaf91-4f6a-4c82-b2a9-b4ab9c840554"
      ],
      "metadata": {
        "id": "trRaRnLCDg9-"
      }
    },
    {
      "cell_type": "code",
      "source": [],
      "metadata": {
        "id": "uhXGXTbQDjWp"
      },
      "execution_count": null,
      "outputs": []
    }
  ]
}